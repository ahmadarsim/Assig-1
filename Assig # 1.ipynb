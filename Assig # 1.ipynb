{
 "cells": [
  {
   "cell_type": "code",
   "execution_count": 22,
   "id": "96f457d0",
   "metadata": {},
   "outputs": [
    {
     "name": "stdout",
     "output_type": "stream",
     "text": [
      "Twinkle,twinkle,little star,\n",
      "        How I wonder what you are!\n",
      "                Up above the world so high,\n",
      "                Like a diamond in the sky.\n",
      "Twinkle,twinkle,little star,\n",
      "        How I wonder what you are\n"
     ]
    }
   ],
   "source": [
    "print (\"\"\"Twinkle,twinkle,little star,\n",
    "        How I wonder what you are!\n",
    "                Up above the world so high,\n",
    "                Like a diamond in the sky.\n",
    "Twinkle,twinkle,little star,\n",
    "        How I wonder what you are\"\"\" )"
   ]
  },
  {
   "cell_type": "code",
   "execution_count": 29,
   "id": "5e6d4039",
   "metadata": {},
   "outputs": [
    {
     "name": "stdout",
     "output_type": "stream",
     "text": [
      "you are using python 3.7 version\n"
     ]
    }
   ],
   "source": [
    "ver =  3.7\n",
    "print(\"you are using python %s version\" % ver)"
   ]
  },
  {
   "cell_type": "code",
   "execution_count": 32,
   "id": "3ec1d72e",
   "metadata": {},
   "outputs": [
    {
     "name": "stdout",
     "output_type": "stream",
     "text": [
      "my name is ahmad  .my age is 21 \n"
     ]
    }
   ],
   "source": [
    "name = \"ahmad\" \n",
    "age  = 21\n",
    "print ( \"my name is {0}  .my age is {1} \" .format(name,age) )\n"
   ]
  },
  {
   "cell_type": "code",
   "execution_count": 49,
   "id": "f974fe0d",
   "metadata": {},
   "outputs": [
    {
     "name": "stdout",
     "output_type": "stream",
     "text": [
      "2021-12-30 10:04:02.277424\n"
     ]
    }
   ],
   "source": [
    "from datetime import datetime\n",
    "\n",
    "now = datetime.now()\n",
    "print(now)"
   ]
  },
  {
   "cell_type": "code",
   "execution_count": 47,
   "id": "a3cc9ad8",
   "metadata": {},
   "outputs": [
    {
     "name": "stdout",
     "output_type": "stream",
     "text": [
      "Current Time = 10:02:01\n"
     ]
    }
   ],
   "source": [
    "from datetime import datetime\n",
    "\n",
    "now = datetime.now()\n",
    "\n",
    "current_time = now.strftime(\"%H:%M:%S\")\n",
    "print(\"Current Time =\", current_time)"
   ]
  },
  {
   "cell_type": "raw",
   "id": "9dd26487",
   "metadata": {},
   "source": [
    "help(\"strftime\")"
   ]
  },
  {
   "cell_type": "code",
   "execution_count": 57,
   "id": "e336cfd0",
   "metadata": {},
   "outputs": [
    {
     "name": "stdout",
     "output_type": "stream",
     "text": [
      "2021-12-30 10:11:29.773302\n"
     ]
    }
   ],
   "source": [
    "from datetime import datetime\n",
    "time  =datetime.now()\n",
    "print(time)"
   ]
  },
  {
   "cell_type": "code",
   "execution_count": 7,
   "id": "8f7ee0a9",
   "metadata": {},
   "outputs": [
    {
     "name": "stdout",
     "output_type": "stream",
     "text": [
      "5\n",
      "area is 78.57142857142857\n"
     ]
    }
   ],
   "source": [
    "r = int(input())\n",
    "pi = 22/7\n",
    "area =r*r * pi\n",
    "print ( \"area is\",area )\n"
   ]
  },
  {
   "cell_type": "code",
   "execution_count": 14,
   "id": "dcdf672a",
   "metadata": {},
   "outputs": [
    {
     "name": "stdout",
     "output_type": "stream",
     "text": [
      "misra damha\n"
     ]
    }
   ],
   "source": [
    "name = \"ahmad arsim\"\n",
    "print (name[: : -1]) "
   ]
  },
  {
   "cell_type": "code",
   "execution_count": 8,
   "id": "80850675",
   "metadata": {},
   "outputs": [
    {
     "name": "stdout",
     "output_type": "stream",
     "text": [
      "4\n",
      "5\n",
      "9\n"
     ]
    }
   ],
   "source": [
    "a = int(input())\n",
    "b = int(input())\n",
    "c = a + b\n",
    "print(c)\n"
   ]
  },
  {
   "cell_type": "code",
   "execution_count": null,
   "id": "daac22d3",
   "metadata": {},
   "outputs": [],
   "source": []
  }
 ],
 "metadata": {
  "kernelspec": {
   "display_name": "Python 3",
   "language": "python",
   "name": "python3"
  },
  "language_info": {
   "codemirror_mode": {
    "name": "ipython",
    "version": 3
   },
   "file_extension": ".py",
   "mimetype": "text/x-python",
   "name": "python",
   "nbconvert_exporter": "python",
   "pygments_lexer": "ipython3",
   "version": "3.8.8"
  }
 },
 "nbformat": 4,
 "nbformat_minor": 5
}
